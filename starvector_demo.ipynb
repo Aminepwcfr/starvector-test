{
   "cells": [
      {
         "cell_type": "code",
         "execution_count": null,
         "metadata": {},
         "outputs": [],
         "source": [
            "import numpy as np\n",
            "from starvector import StarVector\n",
            "\n",
            "# Créer un vecteur d'étoile avec des coordonnées sphériques\n",
            "star = StarVector(ra=10.684, dec=41.269)  # Exemple : Andromède\n",
            "\n",
            "# Afficher les coordonnées équatoriales\n",
            "print(f\"RA: {star.ra}, DEC: {star.dec}\")\n",
            "\n",
            "# Obtenir les coordonnées galactiques\n",
            "galactic_coords = star.galactic()\n",
            "print(f\"L: {galactic_coords.l}, B: {galactic_coords.b}\")\n",
            "\n",
            "# Créer une autre étoile\n",
            "star2 = StarVector(ra=12.0, dec=30.0)  # Exemple d'une autre étoile\n",
            "angle = star.angle(star2)\n",
            "print(f\"Angle entre les deux étoiles: {angle} degrés\")\n",
            "\n",
            "distance = star.distance(star2)\n",
            "print(f\"Distance entre les deux étoiles: {distance} unités\")"
         ]
      }
   ],
   "metadata": {
      "kernelspec": {
         "display_name": "Python 3",
         "language": "python",
         "name": "python3"
      },
      "language_info": {
         "codemirror_mode": {
            "name": "ipython",
            "version": 3
         },
         "file_extension": ".py",
         "mimetype": "text/x-python",
         "name": "python",
         "nbconvert_exporter": "python",
         "pygments_lexer": "ipython3",
         "version": "3.8.8"
      }
   },
   "nbformat": 4,
   "nbformat_minor": 4
}
